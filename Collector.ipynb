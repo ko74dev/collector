{
  "cells": [
    {
      "cell_type": "markdown",
      "metadata": {
        "id": "view-in-github",
        "colab_type": "text"
      },
      "source": [
        "<a href=\"https://colab.research.google.com/github/ko74dev/collector/blob/main/Collector.ipynb\" target=\"_parent\"><img src=\"https://colab.research.google.com/assets/colab-badge.svg\" alt=\"Open In Colab\"/></a>"
      ]
    },
    {
      "cell_type": "markdown",
      "metadata": {
        "id": "onWd_-hfkFjP"
      },
      "source": [
        "## Загрузим нужные библиотеки"
      ]
    },
    {
      "cell_type": "code",
      "execution_count": 3,
      "metadata": {
        "id": "6ZwB6QtzjuK9"
      },
      "outputs": [],
      "source": [
        "import numpy as np\n",
        "import pandas as pd\n",
        "from sklearn.model_selection import train_test_split\n",
        "from sklearn.metrics import r2_score"
      ]
    },
    {
      "cell_type": "markdown",
      "metadata": {
        "id": "paXTTHa-kJhw"
      },
      "source": [
        "### Считаем тренировочный набор"
      ]
    },
    {
      "cell_type": "code",
      "source": [
        "from google.colab import drive\n",
        "drive.mount('/content/drive')"
      ],
      "metadata": {
        "colab": {
          "base_uri": "https://localhost:8080/"
        },
        "id": "ecNoDlhRXCg_",
        "outputId": "6d14bd35-7bf7-4994-b8ab-7b14b23932eb"
      },
      "execution_count": 1,
      "outputs": [
        {
          "output_type": "stream",
          "name": "stdout",
          "text": [
            "Mounted at /content/drive\n"
          ]
        }
      ]
    },
    {
      "cell_type": "code",
      "execution_count": 4,
      "metadata": {
        "id": "KdSXtHuSWw0r"
      },
      "outputs": [],
      "source": [
        "train_issues = pd.read_csv(\"/content/drive/MyDrive/train_issues.csv\")\n",
        "train_comments = pd.read_csv(\"/content/drive/MyDrive/train_comments.csv\")\n",
        "emp = pd.read_csv(\"/content/drive/MyDrive/employees.csv\")\n",
        "\n",
        "train_comments = train_comments.groupby(['issue_id'], \n",
        "                                        as_index=False).agg({'text': '\\n!\\n'.join})\n",
        "\n",
        "train = pd.merge(train_issues, emp, left_on=\"assignee_id\", right_on=\"id\", how='inner')\n",
        "\n",
        "\n",
        "train = pd.merge(train, emp, left_on=\"creator_id\", right_on=\"id\", how='inner')\n",
        "train = pd.merge(train, train_comments, left_on=\"id_x\", right_on=\"issue_id\", how='left')\n",
        "\n",
        "train['w_summary'] = train.summary.str.count(' ')+1\n",
        "train['s_text'] = train.text.fillna('').str.count('\\n!\\n')+1"
      ]
    },
    {
      "cell_type": "markdown",
      "metadata": {
        "id": "GywlangPRAEm"
      },
      "source": [
        "## Рассмотрим датасет по ближе"
      ]
    },
    {
      "cell_type": "markdown",
      "metadata": {
        "id": "SPzAUHGmpKSY"
      },
      "source": [
        "## Обьединим наборы\n",
        "Обьединим наборы данных задач и работников по id исполнителя"
      ]
    },
    {
      "cell_type": "markdown",
      "metadata": {
        "id": "wRNvOPePWw03"
      },
      "source": [
        "Обьединим набор данных с комментариями по issue_id"
      ]
    },
    {
      "cell_type": "code",
      "execution_count": 5,
      "metadata": {
        "colab": {
          "base_uri": "https://localhost:8080/"
        },
        "id": "-nZ_xbbBWw06",
        "outputId": "d086355d-f3c5-4e9f-dca4-4995b735c9a0"
      },
      "outputs": [
        {
          "output_type": "stream",
          "name": "stdout",
          "text": [
            "<class 'pandas.core.frame.DataFrame'>\n",
            "Int64Index: 9589 entries, 0 to 9588\n",
            "Data columns (total 38 columns):\n",
            " #   Column                        Non-Null Count  Dtype  \n",
            "---  ------                        --------------  -----  \n",
            " 0   id_x                          9589 non-null   int64  \n",
            " 1   created                       9589 non-null   object \n",
            " 2   key                           9589 non-null   object \n",
            " 3   summary                       9589 non-null   object \n",
            " 4   project_id                    9589 non-null   int64  \n",
            " 5   assignee_id                   9589 non-null   int64  \n",
            " 6   creator_id                    9589 non-null   int64  \n",
            " 7   overall_worklogs              9589 non-null   int64  \n",
            " 8   id_y                          9589 non-null   int64  \n",
            " 9   active_x                      9589 non-null   int64  \n",
            " 10  full_name_x                   9589 non-null   object \n",
            " 11  position_x                    7354 non-null   object \n",
            " 12  hiring_type_x                 7630 non-null   object \n",
            " 13  payment_type_x                7529 non-null   object \n",
            " 14  salary_calculation_type_x     213 non-null    object \n",
            " 15  english_level_x               534 non-null    object \n",
            " 16  passport_x                    9589 non-null   int64  \n",
            " 17  is_nda_signed_x               9589 non-null   int64  \n",
            " 18  is_labor_contract_signed_x    9589 non-null   int64  \n",
            " 19  is_added_to_internal_chats_x  9589 non-null   int64  \n",
            " 20  is_added_one_to_one_x         9589 non-null   int64  \n",
            " 21  id                            9589 non-null   int64  \n",
            " 22  active_y                      9589 non-null   int64  \n",
            " 23  full_name_y                   9589 non-null   object \n",
            " 24  position_y                    7869 non-null   object \n",
            " 25  hiring_type_y                 8171 non-null   object \n",
            " 26  payment_type_y                7992 non-null   object \n",
            " 27  salary_calculation_type_y     424 non-null    object \n",
            " 28  english_level_y               1222 non-null   object \n",
            " 29  passport_y                    9589 non-null   int64  \n",
            " 30  is_nda_signed_y               9589 non-null   int64  \n",
            " 31  is_labor_contract_signed_y    9589 non-null   int64  \n",
            " 32  is_added_to_internal_chats_y  9589 non-null   int64  \n",
            " 33  is_added_one_to_one_y         9589 non-null   int64  \n",
            " 34  issue_id                      3945 non-null   float64\n",
            " 35  text                          3945 non-null   object \n",
            " 36  w_summary                     9589 non-null   int64  \n",
            " 37  s_text                        9589 non-null   int64  \n",
            "dtypes: float64(1), int64(21), object(16)\n",
            "memory usage: 2.9+ MB\n"
          ]
        }
      ],
      "source": [
        "train.info()"
      ]
    },
    {
      "cell_type": "markdown",
      "metadata": {
        "id": "252IKD-t4a1F"
      },
      "source": [
        "### Преобразование столбцов"
      ]
    },
    {
      "cell_type": "code",
      "execution_count": 6,
      "metadata": {
        "id": "qagaBVHgWw1E"
      },
      "outputs": [],
      "source": [
        "def pred(x):\n",
        "    X = x[['active_x', 'passport_x', 'is_nda_signed_x', 'is_labor_contract_signed_x',\n",
        "          'is_added_to_internal_chats_x', 'is_added_one_to_one_x',\n",
        "          'active_y', 'passport_y', 'is_nda_signed_y', 'is_labor_contract_signed_y',\n",
        "          'is_added_to_internal_chats_y', 'is_added_one_to_one_y'\n",
        "          ]].astype(np.uint8).copy()\n",
        "    X['created'] = pd.to_datetime(x.created)\n",
        "    X = pd.concat([X, \n",
        "                    pd.get_dummies(X.created.dt.year, prefix='Y'),\n",
        "                    pd.get_dummies(X.created.dt.month, prefix='M'),\n",
        "                    pd.get_dummies(X.created.dt.day, prefix='D'),\n",
        "                    pd.get_dummies(X.created.dt.weekday, prefix='W'),\n",
        "                    pd.get_dummies(X.created.dt.hour, prefix='H')\n",
        "                   ], axis=1)\n",
        "    X['created'] = (X.created - X.created.min()).astype('timedelta64[M]')\n",
        "    X = pd.get_dummies(X, columns=['created'], prefix='crtd')\n",
        "    X = pd.concat([X,\n",
        "                pd.get_dummies(x.w_summary.map(lambda x: int(np.log(x))), prefix='w_s'),\n",
        "                pd.get_dummies(x.s_text.map(lambda x: int(np.log(x))), prefix='s_t'),\n",
        "                   \n",
        "                pd.get_dummies(x.key.map(lambda x: x.split('-')[0]), prefix='k0'),\n",
        "                pd.get_dummies(x.key.map(lambda x:\n",
        "                                      int(np.log2(float(x.split('-')[1])))), prefix='k1'),   \n",
        "                pd.get_dummies(x.assignee_id, prefix='ass'),\n",
        "                pd.get_dummies(x.creator_id, prefix='crea'),\n",
        "\n",
        "                pd.get_dummies(x.position_x.fillna('X'), prefix='posx'),\n",
        "                pd.get_dummies(x.hiring_type_x.fillna('X'), prefix='HTx'),\n",
        "                pd.get_dummies(x.payment_type_x.fillna('X'), prefix='PTx'),\n",
        "                pd.get_dummies(x.salary_calculation_type_x.fillna('X'), prefix='SCTx'),\n",
        "                pd.get_dummies(x.english_level_x.fillna('X'), prefix='EnLx'),\n",
        "                   \n",
        "                pd.get_dummies(x.position_y.fillna('X'), prefix='posy'),\n",
        "                pd.get_dummies(x.hiring_type_y.fillna('X'), prefix='HTy'),\n",
        "                pd.get_dummies(x.payment_type_y.fillna('X'), prefix='PTy'),\n",
        "                pd.get_dummies(x.salary_calculation_type_y.fillna('X'), prefix='SCTy'),\n",
        "                pd.get_dummies(x.english_level_y.fillna('X'), prefix='EnLy'),   \n",
        "                  ], axis=1)\n",
        "    return X\n",
        "    \n",
        "X = pred(train.copy())"
      ]
    },
    {
      "cell_type": "code",
      "execution_count": 7,
      "metadata": {
        "colab": {
          "base_uri": "https://localhost:8080/"
        },
        "id": "aaiRUBRyWw1J",
        "outputId": "84395713-51ab-41a7-ceaa-ccb42f5a85e7"
      },
      "outputs": [
        {
          "output_type": "execute_result",
          "data": {
            "text/plain": [
              "(9589, 314)"
            ]
          },
          "metadata": {},
          "execution_count": 7
        }
      ],
      "source": [
        "X.shape"
      ]
    },
    {
      "cell_type": "markdown",
      "metadata": {
        "id": "VLOa56f5zfUg"
      },
      "source": [
        "## Выделим выборки"
      ]
    },
    {
      "cell_type": "code",
      "execution_count": 8,
      "metadata": {
        "id": "bKvR3rn0Ww1O"
      },
      "outputs": [],
      "source": [
        "y = train_issues['overall_worklogs']"
      ]
    },
    {
      "cell_type": "code",
      "execution_count": 9,
      "metadata": {
        "id": "DAxLJ7bfWw1P"
      },
      "outputs": [],
      "source": [
        "import random\n",
        "from tensorflow.random import set_seed\n",
        "import tensorflow as tf\n",
        "\n",
        "seed = 42\n",
        "random.seed(seed)\n",
        "np.random.seed(seed)\n",
        "set_seed(seed)\n",
        "\n",
        "X_train, X_test, y_train, y_test = train_test_split(X, y, \n",
        "                                                    test_size=0.15, random_state=seed)"
      ]
    },
    {
      "cell_type": "markdown",
      "metadata": {
        "id": "60NotS9ehbO5"
      },
      "source": [
        "## Обучение модели"
      ]
    },
    {
      "cell_type": "code",
      "execution_count": 10,
      "metadata": {
        "id": "jc67hCaAWw1S"
      },
      "outputs": [],
      "source": [
        "from keras.models import Sequential\n",
        "from keras.layers import (Dense, Dropout, Normalization,\n",
        "                          Lambda, Conv2D,GlobalAveragePooling2D)\n",
        "from tensorflow.keras.optimizers import Adam, schedules \n",
        "from keras import layers, Input"
      ]
    },
    {
      "cell_type": "code",
      "execution_count": 62,
      "metadata": {
        "scrolled": true,
        "colab": {
          "base_uri": "https://localhost:8080/"
        },
        "id": "fwzEDpHHWw1Y",
        "outputId": "d6450bea-475a-4f98-8933-0316d538f142"
      },
      "outputs": [
        {
          "output_type": "stream",
          "name": "stdout",
          "text": [
            "Model: \"sequential_18\"\n",
            "_________________________________________________________________\n",
            " Layer (type)                Output Shape              Param #   \n",
            "=================================================================\n",
            " dense_54 (Dense)            (None, 314)               98910     \n",
            "                                                                 \n",
            " dropout_74 (Dropout)        (None, 314)               0         \n",
            "                                                                 \n",
            " normalization_74 (Normaliza  (None, 314)              629       \n",
            " tion)                                                           \n",
            "                                                                 \n",
            " lambda_18 (Lambda)          (None, 63, 314, 1)        0         \n",
            "                                                                 \n",
            " conv2d_56 (Conv2D)          (None, 20, 62, 314)       8164      \n",
            "                                                                 \n",
            " dropout_75 (Dropout)        (None, 20, 62, 314)       0         \n",
            "                                                                 \n",
            " normalization_75 (Normaliza  (None, 20, 62, 314)      629       \n",
            " tion)                                                           \n",
            "                                                                 \n",
            " conv2d_57 (Conv2D)          (None, 6, 12, 157)        1232607   \n",
            "                                                                 \n",
            " dropout_76 (Dropout)        (None, 6, 12, 157)        0         \n",
            "                                                                 \n",
            " normalization_76 (Normaliza  (None, 6, 12, 157)       315       \n",
            " tion)                                                           \n",
            "                                                                 \n",
            " conv2d_58 (Conv2D)          (None, 1, 2, 157)         616382    \n",
            "                                                                 \n",
            " dropout_77 (Dropout)        (None, 1, 2, 157)         0         \n",
            "                                                                 \n",
            " normalization_77 (Normaliza  (None, 1, 2, 157)        315       \n",
            " tion)                                                           \n",
            "                                                                 \n",
            " global_average_pooling2d_18  (None, 157)              0         \n",
            "  (GlobalAveragePooling2D)                                       \n",
            "                                                                 \n",
            " dense_55 (Dense)            (None, 157)               24806     \n",
            "                                                                 \n",
            " dense_56 (Dense)            (None, 1)                 158       \n",
            "                                                                 \n",
            "=================================================================\n",
            "Total params: 1,982,915\n",
            "Trainable params: 1,981,027\n",
            "Non-trainable params: 1,888\n",
            "_________________________________________________________________\n"
          ]
        }
      ],
      "source": [
        "nn = Sequential([\n",
        "    Input(shape=314),\n",
        "    Dense(314, activation='relu'), Dropout(0.1), Normalization(),\n",
        "    Lambda(lambda x: tf.transpose(\n",
        "        tf.expand_dims(tf.stack([tf.roll(x, i, 0) for i in range(0,314,5)]), 2), \n",
        "        perm=[1,0,3,2])),\n",
        "    Conv2D(314, 5, (3,5), activation='relu'), Dropout(0.1), Normalization(),\n",
        "    Conv2D(157, 5, (3,5), activation='relu'), Dropout(0.1),  Normalization(),\n",
        "    Conv2D(157, 5, (3,5), activation='relu'), Dropout(0.1),  Normalization(),\n",
        "    GlobalAveragePooling2D(),\n",
        "    Dense(157, activation='relu'),\n",
        "    Dense(1) ])\n",
        "\n",
        "lr_schedule = schedules.ExponentialDecay(\n",
        "    initial_learning_rate=.0005,\n",
        "    decay_steps=320,\n",
        "    decay_rate=0.8)\n",
        "optimizer1 = Adam(learning_rate=lr_schedule, epsilon=5e-05)\n",
        "\n",
        "nn.compile(optimizer=optimizer1, loss='mean_squared_logarithmic_error')\n",
        "nn.summary()"
      ]
    },
    {
      "cell_type": "code",
      "execution_count": 63,
      "metadata": {
        "scrolled": true,
        "colab": {
          "base_uri": "https://localhost:8080/"
        },
        "id": "5wAe8emLWw1a",
        "outputId": "0e4d52bf-497a-49d0-e6d9-7950c522159b"
      },
      "outputs": [
        {
          "output_type": "stream",
          "name": "stdout",
          "text": [
            "Epoch 1/4\n",
            "64/64 [==============================] - 8s 102ms/step - loss: 14.0087 - val_loss: 1.6302\n",
            "Epoch 2/4\n",
            "64/64 [==============================] - 6s 96ms/step - loss: 1.5252 - val_loss: 1.6256\n",
            "Epoch 3/4\n",
            "64/64 [==============================] - 6s 96ms/step - loss: 1.5185 - val_loss: 1.6250\n",
            "Epoch 4/4\n",
            "64/64 [==============================] - 6s 96ms/step - loss: 1.5185 - val_loss: 1.6250\n"
          ]
        },
        {
          "output_type": "execute_result",
          "data": {
            "text/plain": [
              "<keras.callbacks.History at 0x7f5c26040190>"
            ]
          },
          "metadata": {},
          "execution_count": 63
        }
      ],
      "source": [
        "nn.fit(X_train, y_train, batch_size=128, epochs=4, \n",
        "          validation_data=(X_test, y_test))"
      ]
    },
    {
      "cell_type": "markdown",
      "metadata": {
        "id": "6Y60HHS5jKeN"
      },
      "source": [
        "## Оценка точности"
      ]
    },
    {
      "cell_type": "code",
      "execution_count": 64,
      "metadata": {
        "colab": {
          "base_uri": "https://localhost:8080/"
        },
        "id": "zar4YmOHWw1d",
        "outputId": "2cb1a682-2f31-460b-a089-f370bae46630"
      },
      "outputs": [
        {
          "output_type": "execute_result",
          "data": {
            "text/plain": [
              "-0.038925663473579064"
            ]
          },
          "metadata": {},
          "execution_count": 64
        }
      ],
      "source": [
        "r2_score(y_test, nn.predict(X_test, batch_size=128))"
      ]
    },
    {
      "cell_type": "markdown",
      "metadata": {
        "id": "LTYkA6g6Ww1f"
      },
      "source": [
        "##  Предсказание на тестовом наборе"
      ]
    },
    {
      "cell_type": "code",
      "execution_count": 65,
      "metadata": {
        "id": "I91dSgufWw1k"
      },
      "outputs": [],
      "source": [
        "test_issues = pd.read_csv(\"/content/drive/MyDrive/test_issues.csv\")\n",
        "test_comments = pd.read_csv(\"/content/drive/MyDrive/test_comments.csv\")\n",
        "\n",
        "test_comments = test_comments.groupby(['issue_id'], \n",
        "                                        as_index=False).agg({'text': '\\n!\\n'.join})\n",
        "\n",
        "test = pd.merge(test_issues, emp, left_on=\"assignee_id\", right_on=\"id\", how='inner')\n",
        "\n",
        "\n",
        "test = pd.merge(test, emp, left_on=\"creator_id\", right_on=\"id\", how='inner')\n",
        "test = pd.merge(test, test_comments, left_on=\"id_x\", right_on=\"issue_id\", how='left')\n",
        "\n",
        "test['w_summary'] = test.summary.str.count(' ')+1\n",
        "test['s_text'] = test.text.fillna('').str.count('\\n!\\n')+1\n"
      ]
    },
    {
      "cell_type": "code",
      "execution_count": 66,
      "metadata": {
        "id": "r_vNQ7ZhWw1u"
      },
      "outputs": [],
      "source": [
        "test_x = pd.DataFrame(columns=X.columns)"
      ]
    },
    {
      "cell_type": "code",
      "execution_count": 67,
      "metadata": {
        "colab": {
          "base_uri": "https://localhost:8080/"
        },
        "id": "Bpm2bICEWw1v",
        "outputId": "f0801fd2-82d8-471b-be5a-82deec7651b2"
      },
      "outputs": [
        {
          "output_type": "execute_result",
          "data": {
            "text/plain": [
              "(1070, 314)"
            ]
          },
          "metadata": {},
          "execution_count": 67
        }
      ],
      "source": [
        "pred_test = pred(test.copy())\n",
        "for c in set(pred_test.columns) & set(X.columns):\n",
        "    test_x[c] = pred_test[c]\n",
        "test_x.shape"
      ]
    },
    {
      "cell_type": "code",
      "execution_count": 68,
      "metadata": {
        "id": "UKTcjCArWw1x"
      },
      "outputs": [],
      "source": [
        "test_x.fillna(1, inplace=True)"
      ]
    },
    {
      "cell_type": "code",
      "execution_count": 69,
      "metadata": {
        "id": "10VgF5lNWw1y"
      },
      "outputs": [],
      "source": [
        "sub = pd.read_csv(\"/content/drive/MyDrive/sample_solution.csv\")\n",
        "sub['overall_worklogs'] = nn.predict(test_x)\n",
        "sub.to_csv('sub.csv', index=False)"
      ]
    }
  ],
  "metadata": {
    "colab": {
      "provenance": [],
      "include_colab_link": true
    },
    "kernelspec": {
      "display_name": "Python 3",
      "language": "python",
      "name": "python3"
    },
    "language_info": {
      "codemirror_mode": {
        "name": "ipython",
        "version": 3
      },
      "file_extension": ".py",
      "mimetype": "text/x-python",
      "name": "python",
      "nbconvert_exporter": "python",
      "pygments_lexer": "ipython3",
      "version": "3.8.5"
    },
    "accelerator": "GPU"
  },
  "nbformat": 4,
  "nbformat_minor": 0
}